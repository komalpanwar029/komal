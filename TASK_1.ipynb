{
 "cells": [
  {
   "cell_type": "code",
   "execution_count": 1,
   "metadata": {},
   "outputs": [],
   "source": [
    "import pandas as pd\n",
    "import numpy as np\n",
    "import matplotlib.pyplot as plt\n",
    "import seaborn as sns\n"
   ]
  },
  {
   "cell_type": "code",
   "execution_count": 9,
   "metadata": {},
   "outputs": [],
   "source": [
    "df = pd.read_csv(r'C:\\Users\\arjun\\Downloads\\dataset-1.csv' )"
   ]
  },
  {
   "cell_type": "code",
   "execution_count": 10,
   "metadata": {},
   "outputs": [
    {
     "data": {
      "text/plain": [
       "(341, 8)"
      ]
     },
     "execution_count": 10,
     "metadata": {},
     "output_type": "execute_result"
    }
   ],
   "source": [
    "df.shape"
   ]
  },
  {
   "cell_type": "code",
   "execution_count": 11,
   "metadata": {},
   "outputs": [
    {
     "data": {
      "text/html": [
       "<div>\n",
       "<style scoped>\n",
       "    .dataframe tbody tr th:only-of-type {\n",
       "        vertical-align: middle;\n",
       "    }\n",
       "\n",
       "    .dataframe tbody tr th {\n",
       "        vertical-align: top;\n",
       "    }\n",
       "\n",
       "    .dataframe thead th {\n",
       "        text-align: right;\n",
       "    }\n",
       "</style>\n",
       "<table border=\"1\" class=\"dataframe\">\n",
       "  <thead>\n",
       "    <tr style=\"text-align: right;\">\n",
       "      <th></th>\n",
       "      <th>id_1</th>\n",
       "      <th>id_2</th>\n",
       "      <th>route</th>\n",
       "      <th>moto</th>\n",
       "      <th>car</th>\n",
       "      <th>rv</th>\n",
       "      <th>bus</th>\n",
       "      <th>truck</th>\n",
       "    </tr>\n",
       "  </thead>\n",
       "  <tbody>\n",
       "    <tr>\n",
       "      <th>0</th>\n",
       "      <td>829</td>\n",
       "      <td>827</td>\n",
       "      <td>1</td>\n",
       "      <td>2.05</td>\n",
       "      <td>4.14</td>\n",
       "      <td>4.14</td>\n",
       "      <td>10.1</td>\n",
       "      <td>15.2</td>\n",
       "    </tr>\n",
       "    <tr>\n",
       "      <th>1</th>\n",
       "      <td>829</td>\n",
       "      <td>821</td>\n",
       "      <td>4</td>\n",
       "      <td>6.63</td>\n",
       "      <td>13.26</td>\n",
       "      <td>13.26</td>\n",
       "      <td>32.4</td>\n",
       "      <td>48.5</td>\n",
       "    </tr>\n",
       "    <tr>\n",
       "      <th>2</th>\n",
       "      <td>829</td>\n",
       "      <td>804</td>\n",
       "      <td>7</td>\n",
       "      <td>14.41</td>\n",
       "      <td>28.92</td>\n",
       "      <td>28.92</td>\n",
       "      <td>64.7</td>\n",
       "      <td>97.0</td>\n",
       "    </tr>\n",
       "    <tr>\n",
       "      <th>3</th>\n",
       "      <td>829</td>\n",
       "      <td>822</td>\n",
       "      <td>6</td>\n",
       "      <td>5.90</td>\n",
       "      <td>11.81</td>\n",
       "      <td>11.81</td>\n",
       "      <td>28.8</td>\n",
       "      <td>43.2</td>\n",
       "    </tr>\n",
       "    <tr>\n",
       "      <th>4</th>\n",
       "      <td>829</td>\n",
       "      <td>826</td>\n",
       "      <td>9</td>\n",
       "      <td>2.87</td>\n",
       "      <td>5.81</td>\n",
       "      <td>5.81</td>\n",
       "      <td>14.2</td>\n",
       "      <td>21.2</td>\n",
       "    </tr>\n",
       "  </tbody>\n",
       "</table>\n",
       "</div>"
      ],
      "text/plain": [
       "   id_1  id_2  route   moto    car     rv   bus  truck\n",
       "0   829   827      1   2.05   4.14   4.14  10.1   15.2\n",
       "1   829   821      4   6.63  13.26  13.26  32.4   48.5\n",
       "2   829   804      7  14.41  28.92  28.92  64.7   97.0\n",
       "3   829   822      6   5.90  11.81  11.81  28.8   43.2\n",
       "4   829   826      9   2.87   5.81   5.81  14.2   21.2"
      ]
     },
     "execution_count": 11,
     "metadata": {},
     "output_type": "execute_result"
    }
   ],
   "source": [
    "df.head()"
   ]
  },
  {
   "cell_type": "markdown",
   "metadata": {},
   "source": [
    "Question 1: Car Matrix Generation\n",
    "Under the function named generate_car_matrix write a logic that takes the dataset-1.csv as a DataFrame. Return a new DataFrame that follows the following rules:\n",
    "\n",
    "values from id_2 as columns\n",
    "values from id_1 as index\n",
    "dataframe should have values from car column\n",
    "diagonal values should be 0."
   ]
  },
  {
   "cell_type": "code",
   "execution_count": 48,
   "metadata": {},
   "outputs": [],
   "source": [
    "\n",
    "   \n",
    "def generate_car_matrix(df):\n",
    "   \n",
    "    pivot_df = df.pivot(index='id_1', columns='id_2', values='car').fillna(0)\n",
    "    pivot_df.values[[range(len(pivot_df))]*2] = 0\n",
    "    return pivot_df\n"
   ]
  },
  {
   "cell_type": "code",
   "execution_count": 52,
   "metadata": {},
   "outputs": [
    {
     "name": "stdout",
     "output_type": "stream",
     "text": [
      "id_2  801  802  803  804  805  806  807  808  809  821  822  823  824  825  \\\n",
      "id_1                                                                         \n",
      "801   0.0  0.0  0.0  0.0  0.0  0.0  0.0  0.0  0.0  0.0  0.0  0.0  0.0  0.0   \n",
      "802   0.0  0.0  0.0  0.0  0.0  0.0  0.0  0.0  0.0  0.0  0.0  0.0  0.0  0.0   \n",
      "803   0.0  0.0  0.0  0.0  0.0  0.0  0.0  0.0  0.0  0.0  0.0  0.0  0.0  0.0   \n",
      "804   0.0  0.0  0.0  0.0  0.0  0.0  0.0  0.0  0.0  0.0  0.0  0.0  0.0  0.0   \n",
      "805   0.0  0.0  0.0  0.0  0.0  0.0  0.0  0.0  0.0  0.0  0.0  0.0  0.0  0.0   \n",
      "806   0.0  0.0  0.0  0.0  0.0  0.0  0.0  0.0  0.0  0.0  0.0  0.0  0.0  0.0   \n",
      "807   0.0  0.0  0.0  0.0  0.0  0.0  0.0  0.0  0.0  0.0  0.0  0.0  0.0  0.0   \n",
      "808   0.0  0.0  0.0  0.0  0.0  0.0  0.0  0.0  0.0  0.0  0.0  0.0  0.0  0.0   \n",
      "809   0.0  0.0  0.0  0.0  0.0  0.0  0.0  0.0  0.0  0.0  0.0  0.0  0.0  0.0   \n",
      "821   0.0  0.0  0.0  0.0  0.0  0.0  0.0  0.0  0.0  0.0  0.0  0.0  0.0  0.0   \n",
      "822   0.0  0.0  0.0  0.0  0.0  0.0  0.0  0.0  0.0  0.0  0.0  0.0  0.0  0.0   \n",
      "823   0.0  0.0  0.0  0.0  0.0  0.0  0.0  0.0  0.0  0.0  0.0  0.0  0.0  0.0   \n",
      "824   0.0  0.0  0.0  0.0  0.0  0.0  0.0  0.0  0.0  0.0  0.0  0.0  0.0  0.0   \n",
      "825   0.0  0.0  0.0  0.0  0.0  0.0  0.0  0.0  0.0  0.0  0.0  0.0  0.0  0.0   \n",
      "826   0.0  0.0  0.0  0.0  0.0  0.0  0.0  0.0  0.0  0.0  0.0  0.0  0.0  0.0   \n",
      "827   0.0  0.0  0.0  0.0  0.0  0.0  0.0  0.0  0.0  0.0  0.0  0.0  0.0  0.0   \n",
      "829   0.0  0.0  0.0  0.0  0.0  0.0  0.0  0.0  0.0  0.0  0.0  0.0  0.0  0.0   \n",
      "830   0.0  0.0  0.0  0.0  0.0  0.0  0.0  0.0  0.0  0.0  0.0  0.0  0.0  0.0   \n",
      "831   0.0  0.0  0.0  0.0  0.0  0.0  0.0  0.0  0.0  0.0  0.0  0.0  0.0  0.0   \n",
      "\n",
      "id_2  826  827  829  830  831  \n",
      "id_1                           \n",
      "801   0.0  0.0  0.0  0.0  0.0  \n",
      "802   0.0  0.0  0.0  0.0  0.0  \n",
      "803   0.0  0.0  0.0  0.0  0.0  \n",
      "804   0.0  0.0  0.0  0.0  0.0  \n",
      "805   0.0  0.0  0.0  0.0  0.0  \n",
      "806   0.0  0.0  0.0  0.0  0.0  \n",
      "807   0.0  0.0  0.0  0.0  0.0  \n",
      "808   0.0  0.0  0.0  0.0  0.0  \n",
      "809   0.0  0.0  0.0  0.0  0.0  \n",
      "821   0.0  0.0  0.0  0.0  0.0  \n",
      "822   0.0  0.0  0.0  0.0  0.0  \n",
      "823   0.0  0.0  0.0  0.0  0.0  \n",
      "824   0.0  0.0  0.0  0.0  0.0  \n",
      "825   0.0  0.0  0.0  0.0  0.0  \n",
      "826   0.0  0.0  0.0  0.0  0.0  \n",
      "827   0.0  0.0  0.0  0.0  0.0  \n",
      "829   0.0  0.0  0.0  0.0  0.0  \n",
      "830   0.0  0.0  0.0  0.0  0.0  \n",
      "831   0.0  0.0  0.0  0.0  0.0  \n"
     ]
    }
   ],
   "source": [
    "result_df =generate_car_matrix(df)\n",
    "print(result_df)"
   ]
  },
  {
   "cell_type": "markdown",
   "metadata": {},
   "source": [
    "Question 2: Car Type Count Calculation\n",
    "Create a Python function named get_type_count that takes the dataset-1.csv as a DataFrame. Add a new categorical column car_type based on values of the column car:\n",
    "\n",
    "low for values less than or equal to 15,\n",
    "medium for values greater than 15 and less than or equal to 25,\n",
    "high for values greater than 25.\n",
    "Calculate the count of occurrences for each car_type category and return the result as a dictionary. Sort the dictionary alphabetically based on keys."
   ]
  },
  {
   "cell_type": "code",
   "execution_count": 19,
   "metadata": {},
   "outputs": [],
   "source": [
    "def get_type_count(df):\n",
    "    df['car_type'] = pd.cut(df['car'], bins=[-float(\"inf\"), 15, 25, float(\"inf\")], labels=['low', 'medium', 'high'])\n",
    "    type_count = df['car_type'].value_counts().to_dict()\n",
    "    type_count = dict(sorted(type_count.items()))\n",
    "    return type_count"
   ]
  },
  {
   "cell_type": "code",
   "execution_count": 54,
   "metadata": {},
   "outputs": [
    {
     "name": "stdout",
     "output_type": "stream",
     "text": [
      "{'high': 56, 'low': 196, 'medium': 89}\n"
     ]
    }
   ],
   "source": [
    "result = get_type_count(df)\n",
    "print(result)"
   ]
  },
  {
   "cell_type": "code",
   "execution_count": 21,
   "metadata": {},
   "outputs": [
    {
     "name": "stdout",
     "output_type": "stream",
     "text": [
      "<class 'pandas.core.frame.DataFrame'>\n",
      "RangeIndex: 341 entries, 0 to 340\n",
      "Data columns (total 8 columns):\n",
      " #   Column  Non-Null Count  Dtype  \n",
      "---  ------  --------------  -----  \n",
      " 0   id_1    341 non-null    int64  \n",
      " 1   id_2    341 non-null    int64  \n",
      " 2   route   341 non-null    int64  \n",
      " 3   moto    341 non-null    float64\n",
      " 4   car     341 non-null    float64\n",
      " 5   rv      341 non-null    float64\n",
      " 6   bus     341 non-null    float64\n",
      " 7   truck   341 non-null    float64\n",
      "dtypes: float64(5), int64(3)\n",
      "memory usage: 21.4 KB\n"
     ]
    }
   ],
   "source": [
    "df.info()"
   ]
  },
  {
   "cell_type": "markdown",
   "metadata": {},
   "source": [
    "Question 3: Bus Count Index Retrieval\n",
    "Create a Python function named get_bus_indexes that takes the dataset-1.csv as a DataFrame. The function should identify and return the indices as a list (sorted in ascending order) where the bus values are greater than twice the mean value of the bus column in the DataFrame"
   ]
  },
  {
   "cell_type": "code",
   "execution_count": 28,
   "metadata": {},
   "outputs": [],
   "source": [
    "def get_bus_indexes(df):\n",
    "    mean_bus = df['bus'].mean()\n",
    "    bus_indexes = df[df['bus'] > 2 * mean_bus].index.tolist()\n",
    "    return sorted(bus_indexes)"
   ]
  },
  {
   "cell_type": "code",
   "execution_count": 55,
   "metadata": {},
   "outputs": [
    {
     "name": "stdout",
     "output_type": "stream",
     "text": [
      "[2, 7, 12, 17, 25, 30, 54, 64, 70, 97, 144, 145, 149, 154, 160, 201, 206, 210, 215, 234, 235, 245, 250, 309, 314, 319, 322, 323, 334, 340]\n"
     ]
    }
   ],
   "source": [
    "result = get_bus_indexes(df)\n",
    "print(result)"
   ]
  },
  {
   "cell_type": "markdown",
   "metadata": {},
   "source": [
    "Question 4: Route Filtering\n",
    "Create a python function filter_routes that takes the dataset-1.csv as a DataFrame. The function should return the sorted list of values of column route for which the average of values of truck column is greater than 7"
   ]
  },
  {
   "cell_type": "code",
   "execution_count": 36,
   "metadata": {},
   "outputs": [],
   "source": [
    "def filter_routes(df):\n",
    "    route_avg_truck = df.groupby('route')['truck'].mean()\n",
    "    filtered_routes = route_avg_truck[route_avg_truck > 7].index.tolist()\n",
    "    return sorted(filtered_routes)\n"
   ]
  },
  {
   "cell_type": "code",
   "execution_count": 43,
   "metadata": {},
   "outputs": [
    {
     "name": "stdout",
     "output_type": "stream",
     "text": [
      "[1, 2, 3, 4, 5, 6, 7, 8, 9, 10]\n"
     ]
    }
   ],
   "source": [
    "result_df =filter_routes(df)\n",
    "print(result_df)"
   ]
  },
  {
   "cell_type": "markdown",
   "metadata": {},
   "source": [
    "Question 5: Matrix Value Modification\n",
    "Create a Python function named multiply_matrix that takes the resulting DataFrame from Question 1, as input and modifies each value according to the following logic:\n",
    "\n",
    "If a value in the DataFrame is greater than 20, multiply those values by 0.75,\n",
    "If a value is 20 or less, multiply those values by 1.25.\n",
    "The function should return the modified DataFrame which has values rounded to 1 decimal place."
   ]
  },
  {
   "cell_type": "code",
   "execution_count": 41,
   "metadata": {},
   "outputs": [],
   "source": [
    "def multiply_matrix(df):\n",
    "    modified_df = df.copy()\n",
    "    modified_df[df > 20] *= 0.75\n",
    "    modified_df[df <= 20] *= 1.25\n",
    "    modified_df = modified_df.round(1)\n",
    "    return modified_df"
   ]
  },
  {
   "cell_type": "code",
   "execution_count": 42,
   "metadata": {},
   "outputs": [
    {
     "name": "stdout",
     "output_type": "stream",
     "text": [
      "      id_1   id_2  route  moto   car    rv   bus  truck\n",
      "0    621.8  620.2    1.2   2.6   5.2   5.2  12.6   19.0\n",
      "1    621.8  615.8    5.0   8.3  16.6  16.6  24.3   36.4\n",
      "2    621.8  603.0    8.8  18.0  21.7  21.7  48.5   72.8\n",
      "3    621.8  616.5    7.5   7.4  14.8  14.8  21.6   32.4\n",
      "4    621.8  619.5   11.2   3.6   7.3   7.3  17.8   15.9\n",
      "..     ...    ...    ...   ...   ...   ...   ...    ...\n",
      "336  602.2  601.5    3.8   2.1   4.2   4.2   8.6   12.9\n",
      "337  602.2  603.8    5.0   3.8   7.5   7.5  15.0   22.4\n",
      "338  602.2  618.8    3.8  14.5  17.5  17.5  37.6   56.4\n",
      "339  602.2  604.5   11.2   4.8   9.6   9.6  19.1   17.2\n",
      "340  602.2  622.5    1.2  20.2  24.4  24.4  54.4   81.6\n",
      "\n",
      "[341 rows x 8 columns]\n"
     ]
    }
   ],
   "source": [
    "result_df =multiply_matrix(df)\n",
    "print(result_df)"
   ]
  },
  {
   "cell_type": "code",
   "execution_count": 56,
   "metadata": {},
   "outputs": [],
   "source": [
    "def verify_time_completeness(df):\n",
    "    df['timestamp'] = pd.to_datetime(df['timestamp'])\n",
    "    df['day_of_week'] = df['timestamp'].dt.day_name()\n",
    "    df['time'] = df['timestamp'].dt.time\n",
    "    df['date'] = df['timestamp'].dt.date\n",
    "\n",
    "    grouped = df.groupby(['id', 'id_2'])\n",
    "\n",
    "    completeness_check = grouped.apply(lambda x: (x['day_of_week'].nunique() == 7) and \n",
    "                                               (x['date'].nunique() == 7) and \n",
    "                                               (x['time'].min() == pd.Timestamp('00:00:00').time()) and \n",
    "                                               (x['time'].max() == pd.Timestamp('23:59:59').time()))\n",
    "\n",
    "    return completeness_check"
   ]
  },
  {
   "cell_type": "code",
   "execution_count": 62,
   "metadata": {},
   "outputs": [
    {
     "name": "stdout",
     "output_type": "stream",
     "text": [
      "<pandas.core.groupby.generic.DataFrameGroupBy object at 0x0000028B7FC18E10>\n"
     ]
    }
   ],
   "source": [
    "completeness_result = df.groupby(['id_1', 'id_2'])\n",
    "print(completeness_result)"
   ]
  },
  {
   "cell_type": "code",
   "execution_count": null,
   "metadata": {},
   "outputs": [],
   "source": []
  }
 ],
 "metadata": {
  "kernelspec": {
   "display_name": "Python 3",
   "language": "python",
   "name": "python3"
  },
  "language_info": {
   "codemirror_mode": {
    "name": "ipython",
    "version": 3
   },
   "file_extension": ".py",
   "mimetype": "text/x-python",
   "name": "python",
   "nbconvert_exporter": "python",
   "pygments_lexer": "ipython3",
   "version": "3.11.4"
  }
 },
 "nbformat": 4,
 "nbformat_minor": 2
}
